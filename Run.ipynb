{
 "cells": [
  {
   "cell_type": "markdown",
   "metadata": {},
   "source": [
    "# Test De personnalité"
   ]
  },
  {
   "cell_type": "markdown",
   "metadata": {},
   "source": [
    "Comment réagissez-vous sous la pression ?"
   ]
  },
  {
   "cell_type": "raw",
   "metadata": {},
   "source": [
    "Choisissez parmi les trois alternatives possibles, celle qui, personnellement, répond le mieux à la question ou à l’affirmation présentée dans l’énoncé."
   ]
  },
  {
   "cell_type": "code",
   "execution_count": 54,
   "id": "93b27aac",
   "metadata": {},
   "outputs": [
    {
     "name": "stdout",
     "output_type": "stream",
     "text": [
      "\n",
      "Votre Score est :  7 \n",
      "\n",
      "-----------------------------------------\n",
      "-----------------------------------------\n",
      "\n",
      "--------- Interprétation finale ---------\n",
      "\n",
      "-----------------------------------------\n",
      "Score moins de 10 : \n",
      "\n",
      "Votre score indique que le stress vous affecte de façon négative.\n",
      "-----------------------------------------\n",
      "\n",
      "{'Q1': 'ab', 'Q2': 'c', 'Q3': 'b', 'Q4': 'a', 'Q5': '1', 'Q6': '2', 'Q7': '1', 'Q8': '2', 'Q9': '3', 'Q10': '2', 'Score': '7', 'Interpretation': 'C'}\n",
      "\n",
      "--------- Prédiction incroyable de voyance ---------\n",
      "\n",
      "[['B']]\n",
      "\n",
      "--------- Fin de la prédiction incroyable de voyance ---------\n",
      "\n"
     ]
    }
   ],
   "source": [
    "%run Test.py"
   ]
  }
 ],
 "metadata": {
  "kernelspec": {
   "display_name": "Python 3",
   "language": "python",
   "name": "python3"
  },
  "language_info": {
   "codemirror_mode": {
    "name": "ipython",
    "version": 3
   },
   "file_extension": ".py",
   "mimetype": "text/x-python",
   "name": "python",
   "nbconvert_exporter": "python",
   "pygments_lexer": "ipython3",
   "version": "3.8.3"
  }
 },
 "nbformat": 4,
 "nbformat_minor": 5
}
